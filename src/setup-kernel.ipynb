{
 "cells": [
  {
   "cell_type": "code",
   "execution_count": 29,
   "metadata": {
    "dotnet_interactive": {
     "language": "csharp"
    },
    "polyglot_notebook": {
     "kernelName": "csharp"
    }
   },
   "outputs": [],
   "source": [
    "#r \"nuget: Microsoft.Extensions.Hosting, 8.0.0\"\n",
    "#r \"nuget: Microsoft.Extensions.Options.ConfigurationExtensions, 8.0.0\"\n",
    "#r \"nuget: Microsoft.SemanticKernel, 1.17.1\"\n",
    "#r \"nuget: Microsoft.SemanticKernel.Connectors.OpenAI, 1.17.1\"\n",
    "#r \"nuget: Microsoft.SemanticKernel.Connectors.Postgres, 1.17.1-alpha\"\n",
    "#r \"nuget: Microsoft.KernelMemory.Core, 0.71.240820.1\"\n",
    "#r \"nuget: Microsoft.KernelMemory.MemoryDb.Postgres, 0.71.240820.1\"\n",
    "\n",
    "#r \"nuget: OpenTelemetry.Exporter.OpenTelemetryProtocol\"\n",
    "#r \"nuget: OpenTelemetry.Extensions.Hosting\"\n",
    "#r \"nuget: OpenTelemetry.Instrumentation.Http\"\n",
    "#r \"nuget: OpenTelemetry.Exporter.Console\""
   ]
  },
  {
   "cell_type": "markdown",
   "metadata": {},
   "source": [
    "✅Imported `IKernelMemory` as `memory`...\n",
    "\n",
    "✅Imported `Kernel` as `kernel`...\n",
    "\n",
    "✅Imported `IServiceProvider` as `services`...\n"
   ]
  },
  {
   "cell_type": "code",
   "execution_count": 30,
   "metadata": {
    "dotnet_interactive": {
     "language": "csharp"
    },
    "polyglot_notebook": {
     "kernelName": "csharp"
    }
   },
   "outputs": [],
   "source": [
    "#!import ./ServiceDefaults.cs\n",
    "#!import ./OpenAiOptions.cs\n",
    "\n",
    "using Microsoft.Extensions.Hosting;\n",
    "using Microsoft.Extensions.DependencyInjection;\n",
    "using Microsoft.Extensions.Configuration;\n",
    "using Microsoft.SemanticKernel;\n",
    "using Microsoft.KernelMemory;\n",
    "using OpenTelemetry;\n",
    "using Microsoft.KernelMemory.SemanticKernel;\n",
    "using Microsoft.SemanticKernel.ChatCompletion;\n",
    "using Microsoft.SemanticKernel.Connectors.OpenAI;\n",
    "\n",
    "#pragma warning disable SKEXP0010\n",
    "\n",
    "HostApplicationBuilder builder = Host.CreateApplicationBuilder();\n",
    "\n",
    "builder.Environment.EnvironmentName = \"Development\";\n",
    "\n",
    "ServiceDefaults.ConfigureOpenTelemetry(builder);\n",
    "\n",
    "var textGenerationOpetions = builder.Configuration\n",
    "    .GetSection(\"TextGeneration\")\n",
    "    .Get<OpenAiOptions>();\n",
    "\n",
    "var textEmbeddingOptions = builder.Configuration\n",
    "    .GetSection(\"TextEmbeddingGeneration\")\n",
    "    .Get<OpenAiOptions>();\n",
    "\n",
    "builder\n",
    "    .Services.AddKernel()\n",
    "    .AddAzureOpenAIChatCompletion(\n",
    "        deploymentName: textGenerationOpetions.Deployment,\n",
    "        endpoint: textGenerationOpetions.Endpoint,\n",
    "        apiKey: textGenerationOpetions.ApiKey\n",
    "    );\n",
    "\n",
    "builder.Services.AddKernelMemory<MemoryServerless>(memoryBuilder =>\n",
    "{\n",
    "    memoryBuilder\n",
    "        .WithPostgresMemoryDb(\n",
    "            new PostgresConfig()\n",
    "            {\n",
    "                ConnectionString = builder.Configuration.GetConnectionString(\"memory-db\")!\n",
    "            }\n",
    "        )\n",
    "        .WithSemanticKernelTextGenerationService(\n",
    "            new AzureOpenAIChatCompletionService(\n",
    "                deploymentName: textGenerationOpetions.Deployment,\n",
    "                endpoint: textGenerationOpetions.Endpoint,\n",
    "                apiKey: textGenerationOpetions.ApiKey\n",
    "            ),\n",
    "            new SemanticKernelConfig()\n",
    "        )\n",
    "        .WithSemanticKernelTextEmbeddingGenerationService(\n",
    "            new AzureOpenAITextEmbeddingGenerationService(\n",
    "                deploymentName: textEmbeddingOptions.Deployment,\n",
    "                endpoint: textEmbeddingOptions.Endpoint,\n",
    "                apiKey: textEmbeddingOptions.ApiKey\n",
    "            ),\n",
    "            new SemanticKernelConfig()\n",
    "        );\n",
    "});\n",
    "\n",
    "IHost host = builder.Build();\n",
    "\n",
    "IKernelMemory memory = host.Services.GetRequiredService<IKernelMemory>();\n",
    "Kernel kernel = host.Services.GetRequiredService<Kernel>();\n",
    "IServiceProvider services = host.Services;"
   ]
  },
  {
   "cell_type": "code",
   "execution_count": null,
   "metadata": {
    "dotnet_interactive": {
     "language": "csharp"
    },
    "polyglot_notebook": {
     "kernelName": "csharp"
    }
   },
   "outputs": [],
   "source": []
  }
 ],
 "metadata": {
  "kernelspec": {
   "display_name": ".NET (C#)",
   "language": "C#",
   "name": ".net-csharp"
  },
  "polyglot_notebook": {
   "kernelInfo": {
    "defaultKernelName": "csharp",
    "items": [
     {
      "aliases": [],
      "languageName": "csharp",
      "name": "csharp"
     }
    ]
   }
  }
 },
 "nbformat": 4,
 "nbformat_minor": 2
}

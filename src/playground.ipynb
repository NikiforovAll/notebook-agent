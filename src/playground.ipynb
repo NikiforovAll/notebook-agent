{
 "cells": [
  {
   "cell_type": "markdown",
   "metadata": {},
   "source": [
    "# Playground\n",
    "\n",
    "This notebook demonstrates how to use Kernel Memory to index a <https://nikiforovall.github.io/> blog and answer questions about it."
   ]
  },
  {
   "cell_type": "markdown",
   "metadata": {},
   "source": [
    "#### Configure Kernel Memory and Semantic Kernel 🧠\n",
    "You can use from any notebook cell by preloading it with `#!import ./setup-kernel.ipynb`"
   ]
  },
  {
   "cell_type": "code",
   "execution_count": 22,
   "metadata": {
    "dotnet_interactive": {
     "language": "csharp"
    },
    "polyglot_notebook": {
     "kernelName": "csharp"
    }
   },
   "outputs": [],
   "source": [
    "#!import ./setup-kernel.ipynb"
   ]
  },
  {
   "cell_type": "markdown",
   "metadata": {},
   "source": [
    "## Import a web page"
   ]
  },
  {
   "cell_type": "code",
   "execution_count": 25,
   "metadata": {
    "dotnet_interactive": {
     "language": "csharp"
    },
    "polyglot_notebook": {
     "kernelName": "csharp"
    }
   },
   "outputs": [],
   "source": [
    "var docId = await memory.ImportWebPageAsync(\"https://nikiforovall.github.io/tags.html\");"
   ]
  },
  {
   "cell_type": "markdown",
   "metadata": {},
   "source": [
    "## Search for a document"
   ]
  },
  {
   "cell_type": "code",
   "execution_count": 24,
   "metadata": {
    "dotnet_interactive": {
     "language": "csharp"
    },
    "polyglot_notebook": {
     "kernelName": "csharp"
    }
   },
   "outputs": [
    {
     "data": {
      "text/plain": [
       "4614fe16ee5f41b8b09488d9c57a8608202409101127061714965"
      ]
     },
     "metadata": {},
     "output_type": "display_data"
    },
    {
     "data": {
      "text/plain": [
       "https://nikiforovall.github.io/tags.html"
      ]
     },
     "metadata": {},
     "output_type": "display_data"
    }
   ],
   "source": [
    "var result = await memory.SearchAsync(\"nikiforovall blog\");\n",
    "\n",
    "var doc = result.Results.FirstOrDefault();\n",
    "var docId = doc?.DocumentId;\n",
    "\n",
    "display(docId);\n",
    "display(doc.SourceUrl);\n"
   ]
  },
  {
   "cell_type": "markdown",
   "metadata": {},
   "source": [
    "## Ask a questions"
   ]
  },
  {
   "cell_type": "code",
   "execution_count": 25,
   "metadata": {
    "dotnet_interactive": {
     "language": "csharp"
    },
    "polyglot_notebook": {
     "kernelName": "csharp"
    }
   },
   "outputs": [
    {
     "data": {
      "text/html": [
       "<body>\n",
       "    <h1>Blog Posts about the Semantic Kernel</h1>\n",
       "    <ul>\n",
       "        <li>\n",
       "            <a href=\"https://nikiforovall.github.io/tags.html#ai\">Typical RAG Implementation Using Semantic Kernel, Kernel Memory, and Aspire in .NET - September 04, 2024</a>\n",
       "        </li>\n",
       "    </ul>\n",
       "</body>"
      ]
     },
     "metadata": {},
     "output_type": "display_data"
    }
   ],
   "source": [
    "// Answer questions using the page content to ground the answer\n",
    "var answer = await memory.AskAsync(\n",
    "    \"\"\"\n",
    "    Are there any blog posts about the Semantic Kernel?\n",
    "\n",
    "    Constraints:\n",
    "    * Result should in HTML format, the title of blog post and the link to the blog post\n",
    "    * Include <body>\n",
    "    * do not use ```html```\n",
    "    \"\"\",\n",
    "    filter: MemoryFilters.ByDocument(docId));\n",
    "\n",
    "HTML(answer.Result).Display();"
   ]
  },
  {
   "cell_type": "markdown",
   "metadata": {},
   "source": [
    "### Clean up"
   ]
  },
  {
   "cell_type": "code",
   "execution_count": 19,
   "metadata": {
    "dotnet_interactive": {
     "language": "csharp"
    },
    "polyglot_notebook": {
     "kernelName": "csharp"
    }
   },
   "outputs": [],
   "source": [
    "await memory.DeleteDocumentAsync(docId);"
   ]
  },
  {
   "cell_type": "code",
   "execution_count": null,
   "metadata": {},
   "outputs": [],
   "source": []
  }
 ],
 "metadata": {
  "kernelspec": {
   "display_name": ".NET (C#)",
   "language": "C#",
   "name": ".net-csharp"
  },
  "polyglot_notebook": {
   "kernelInfo": {
    "defaultKernelName": "csharp",
    "items": [
     {
      "aliases": [],
      "languageName": "csharp",
      "name": "csharp"
     }
    ]
   }
  }
 },
 "nbformat": 4,
 "nbformat_minor": 2
}

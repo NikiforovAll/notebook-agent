{
 "cells": [
  {
   "cell_type": "markdown",
   "metadata": {},
   "source": [
    "# Playground\n",
    "\n",
    "This notebook demonstrates how to use Kernel Memory to index a <https://nikiforovall.github.io/> blog and answer questions about it."
   ]
  },
  {
   "cell_type": "markdown",
   "metadata": {},
   "source": [
    "#### Configure Kernel Memory and Semantic Kernel 🧠\n",
    "You can use from any notebook cell by preloading it with `#!import ./setup-kernel.ipynb`"
   ]
  },
  {
   "cell_type": "code",
   "execution_count": 22,
   "metadata": {
    "dotnet_interactive": {
     "language": "csharp"
    },
    "polyglot_notebook": {
     "kernelName": "csharp"
    }
   },
   "outputs": [
    {
     "data": {
      "text/html": [
       "<div><div></div><div></div><div><strong>Installed Packages</strong><ul><li><span>Microsoft.Extensions.Hosting, 8.0.0</span></li><li><span>Microsoft.Extensions.Options.ConfigurationExtensions, 8.0.0</span></li><li><span>Microsoft.KernelMemory.Core, 0.71.240820.1</span></li><li><span>Microsoft.KernelMemory.MemoryDb.Postgres, 0.71.240820.1</span></li><li><span>Microsoft.SemanticKernel, 1.17.1</span></li><li><span>Microsoft.SemanticKernel.Connectors.OpenAI, 1.17.1</span></li><li><span>Microsoft.SemanticKernel.Connectors.Postgres, 1.17.1-alpha</span></li><li><span>OpenTelemetry.Exporter.Console, 1.9.0</span></li><li><span>OpenTelemetry.Exporter.OpenTelemetryProtocol, 1.9.0</span></li><li><span>OpenTelemetry.Extensions.Hosting, 1.9.0</span></li><li><span>OpenTelemetry.Instrumentation.Http, 1.9.0</span></li></ul></div></div>"
      ]
     },
     "metadata": {},
     "output_type": "display_data"
    },
    {
     "data": {
      "text/markdown": [
       "✅Imported `IKernelMemory` as `memory`...\n",
       "\n",
       "✅Imported `Kernel` as `kernel`...\n",
       "\n",
       "✅Imported `IServiceProvider` as `services`...\n"
      ]
     },
     "metadata": {},
     "output_type": "display_data"
    },
    {
     "name": "stdout",
     "output_type": "stream",
     "text": [
      "info: Microsoft.KernelMemory.Handlers.TextExtractionHandler[0]\n",
      "      Handler 'extract' ready\n",
      "info: Microsoft.KernelMemory.Handlers.TextPartitioningHandler[0]\n",
      "      Handler 'partition' ready\n",
      "info: Microsoft.KernelMemory.Handlers.SummarizationHandler[0]\n",
      "      Handler 'summarize' ready\n",
      "info: Microsoft.KernelMemory.Handlers.GenerateEmbeddingsHandler[0]\n",
      "      Handler 'gen_embeddings' ready, 1 embedding generators\n",
      "info: Microsoft.KernelMemory.Handlers.SaveRecordsHandler[0]\n",
      "      Handler save_records ready, 1 vector storages\n",
      "info: Microsoft.KernelMemory.Handlers.DeleteDocumentHandler[0]\n",
      "      Handler 'private_delete_document' ready\n",
      "info: Microsoft.KernelMemory.Handlers.GenerateEmbeddingsParallelHandler[0]\n",
      "      Handler 'gen_embeddings_parallel' ready, 1 embedding generators\n",
      "info: Microsoft.KernelMemory.Handlers.SummarizationParallelHandler[0]\n",
      "      Handler 'summarize_parallel' ready\n"
     ]
    }
   ],
   "source": [
    "#!import ./setup-kernel.ipynb"
   ]
  },
  {
   "cell_type": "markdown",
   "metadata": {},
   "source": [
    "## Import a web page"
   ]
  },
  {
   "cell_type": "code",
   "execution_count": 25,
   "metadata": {
    "dotnet_interactive": {
     "language": "csharp"
    },
    "polyglot_notebook": {
     "kernelName": "csharp"
    }
   },
   "outputs": [],
   "source": [
    "var docId = await memory.ImportWebPageAsync(\"https://nikiforovall.github.io/tags.html\");"
   ]
  },
  {
   "cell_type": "markdown",
   "metadata": {},
   "source": [
    "## Search for a document"
   ]
  },
  {
   "cell_type": "code",
   "execution_count": 24,
   "metadata": {
    "dotnet_interactive": {
     "language": "csharp"
    },
    "polyglot_notebook": {
     "kernelName": "csharp"
    }
   },
   "outputs": [
    {
     "data": {
      "text/plain": [
       "4614fe16ee5f41b8b09488d9c57a8608202409101127061714965"
      ]
     },
     "metadata": {},
     "output_type": "display_data"
    },
    {
     "data": {
      "text/plain": [
       "https://nikiforovall.github.io/tags.html"
      ]
     },
     "metadata": {},
     "output_type": "display_data"
    }
   ],
   "source": [
    "var result = await memory.SearchAsync(\"nikiforovall blog\");\n",
    "\n",
    "var doc = result.Results.FirstOrDefault();\n",
    "var docId = doc?.DocumentId;\n",
    "\n",
    "display(docId);\n",
    "display(doc.SourceUrl);"
   ]
  },
  {
   "cell_type": "markdown",
   "metadata": {},
   "source": [
    "## Ask questions"
   ]
  },
  {
   "cell_type": "code",
   "execution_count": 25,
   "metadata": {
    "dotnet_interactive": {
     "language": "csharp"
    },
    "polyglot_notebook": {
     "kernelName": "csharp"
    }
   },
   "outputs": [
    {
     "data": {
      "text/html": [
       "<body>\n",
       "    <h1>Blog Posts about the Semantic Kernel</h1>\n",
       "    <ul>\n",
       "        <li>\n",
       "            <a href=\"https://nikiforovall.github.io/tags.html#ai\">Typical RAG Implementation Using Semantic Kernel, Kernel Memory, and Aspire in .NET - September 04, 2024</a>\n",
       "        </li>\n",
       "    </ul>\n",
       "</body>"
      ]
     },
     "metadata": {},
     "output_type": "display_data"
    }
   ],
   "source": [
    "// Answer questions using the page content to ground the answer\n",
    "\n",
    "var answer = await memory.AskAsync(\n",
    "    \"\"\"\n",
    "    Are there any blog posts about the Semantic Kernel?\n",
    "\n",
    "    Constraints:\n",
    "    * Result should in HTML format, the title of blog post and the link to the blog post\n",
    "    * Include <body>\n",
    "    * do not use ```html```\n",
    "    \"\"\",\n",
    "    filter: MemoryFilters.ByDocument(docId));\n",
    "\n",
    "HTML(answer.Result).Display();"
   ]
  },
  {
   "cell_type": "markdown",
   "metadata": {},
   "source": [
    "### Clean up"
   ]
  },
  {
   "cell_type": "code",
   "execution_count": 19,
   "metadata": {
    "dotnet_interactive": {
     "language": "csharp"
    },
    "polyglot_notebook": {
     "kernelName": "csharp"
    }
   },
   "outputs": [],
   "source": [
    "await memory.DeleteDocumentAsync(docId);"
   ]
  },
  {
   "cell_type": "code",
   "execution_count": null,
   "metadata": {},
   "outputs": [],
   "source": []
  }
 ],
 "metadata": {
  "kernelspec": {
   "display_name": ".NET (C#)",
   "language": "C#",
   "name": ".net-csharp"
  },
  "polyglot_notebook": {
   "kernelInfo": {
    "defaultKernelName": "csharp",
    "items": [
     {
      "aliases": [],
      "languageName": "csharp",
      "name": "csharp"
     }
    ]
   }
  }
 },
 "nbformat": 4,
 "nbformat_minor": 2
}

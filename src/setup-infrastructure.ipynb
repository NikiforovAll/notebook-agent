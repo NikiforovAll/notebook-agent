{
 "cells": [
  {
   "cell_type": "code",
   "execution_count": 1,
   "metadata": {
    "dotnet_interactive": {
     "language": "csharp"
    },
    "polyglot_notebook": {
     "kernelName": "csharp"
    }
   },
   "outputs": [
    {
     "data": {
      "text/html": [
       "<div><div></div><div></div><div><strong>Installed Packages</strong><ul><li><span>Npgsql, 8.0.3</span></li><li><span>Testcontainers.Postgresql, 3.10.0</span></li></ul></div></div>"
      ]
     },
     "metadata": {},
     "output_type": "display_data"
    }
   ],
   "source": [
    "#r \"nuget: Testcontainers.Postgresql\"\n",
    "#r \"nuget: Npgsql\""
   ]
  },
  {
   "cell_type": "markdown",
   "metadata": {},
   "source": [
    "## ![img](https://testcontainers.com/modules/postgresql//logo.svg) Setup infrastructure\n",
    "\n",
    "\n",
    "To use PostgreSQL as a vector database, you can leverage the `vector` extension provided by the `pgvector/pgvector` image. This extension allows you to store and query vector embeddings directly in the database.\n",
    "\n",
    "By using PostgreSQL as a vector database, you can perform high-level operations on vector data, such as similarity search, nearest neighbor search, and clustering. This enables you to efficiently work with large-scale vector datasets and build applications that require advanced vector operations.\n",
    "\n",
    "For more information on using PostgreSQL as Test Container, you can refer to the [Testcontainers PostgreSQL module documentation](https://testcontainers.com/modules/postgresql/)."
   ]
  },
  {
   "cell_type": "code",
   "execution_count": 2,
   "metadata": {
    "dotnet_interactive": {
     "language": "csharp"
    },
    "polyglot_notebook": {
     "kernelName": "csharp"
    }
   },
   "outputs": [],
   "source": [
    "using Testcontainers.PostgreSql;\n",
    "using Npgsql;\n",
    "\n",
    "var db =  new PostgreSqlBuilder()\n",
    "    .WithImage(\"pgvector/pgvector:pg16\")\n",
    "    .WithPortBinding(5432, 5432)\n",
    "    .WithDatabase(\"memory-db\")\n",
    "    .WithUsername(\"postgres\")\n",
    "    .WithPassword(\"postgres\")\n",
    "    .WithReuse(true)\n",
    "    .WithVolumeMount(\"memory-db-volume\", \"/var/lib/postgresql/data\")\n",
    "    .Build();\n",
    "\n",
    "await db.StartAsync();\n",
    "\n",
    "var connectionString = db.GetConnectionString();\n",
    "\n",
    "connectionString"
   ]
  },
  {
   "cell_type": "markdown",
   "metadata": {},
   "source": [
    "### Configure 'vector' extension"
   ]
  },
  {
   "cell_type": "code",
   "execution_count": 26,
   "metadata": {},
   "outputs": [
    {
     "data": {
      "text/plain": [
       "Extension created successfully"
      ]
     },
     "metadata": {},
     "output_type": "display_data"
    }
   ],
   "source": [
    "try\n",
    "{\n",
    "    using (var conn = new NpgsqlConnection(connectionString))\n",
    "    {\n",
    "        conn.Open();\n",
    "\n",
    "        var sql = \"CREATE EXTENSION vector\";\n",
    "\n",
    "        using var cmd = new NpgsqlCommand(sql, conn);\n",
    "\n",
    "        var rowsAffected = cmd.ExecuteNonQuery();\n",
    "\n",
    "        display(\"Extension created successfully\");\n",
    "    }\n",
    "}\n",
    "catch (PostgresException ex)\n",
    "{\n",
    "    display(ex.Message);\n",
    "}"
   ]
  },
  {
   "cell_type": "markdown",
   "metadata": {},
   "source": [
    "### Stop container"
   ]
  },
  {
   "cell_type": "code",
   "execution_count": 24,
   "metadata": {},
   "outputs": [
    {
     "name": "stdout",
     "output_type": "stream",
     "text": [
      "[testcontainers.org 00:53:36.75] Stop Docker container 1441c6b3d85d\r\n"
     ]
    }
   ],
   "source": [
    "await db.StopAsync();"
   ]
  }
 ],
 "metadata": {
  "kernelspec": {
   "display_name": ".NET (C#)",
   "language": "C#",
   "name": ".net-csharp"
  },
  "polyglot_notebook": {
   "kernelInfo": {
    "defaultKernelName": "csharp",
    "items": [
     {
      "aliases": [],
      "languageName": "csharp",
      "name": "csharp"
     }
    ]
   }
  }
 },
 "nbformat": 4,
 "nbformat_minor": 2
}

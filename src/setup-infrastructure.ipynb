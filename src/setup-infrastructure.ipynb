{
 "cells": [
  {
   "cell_type": "code",
   "execution_count": 1,
   "metadata": {
    "dotnet_interactive": {
     "language": "csharp"
    },
    "polyglot_notebook": {
     "kernelName": "csharp"
    }
   },
   "outputs": [],
   "source": [
    "#r \"nuget: Testcontainers\"\n",
    "#r \"nuget: Testcontainers.Postgresql\"\n",
    "#r \"nuget: Npgsql\""
   ]
  },
  {
   "cell_type": "markdown",
   "metadata": {},
   "source": [
    "## ![img](https://testcontainers.com/modules/postgresql//logo.svg) Setup infrastructure\n",
    "\n",
    "\n",
    "To use PostgreSQL as a vector database, you can leverage the `vector` extension provided by the `pgvector/pgvector` image. This extension allows you to store and query vector embeddings directly in the database.\n",
    "\n",
    "By using PostgreSQL as a vector database, you can perform high-level operations on vector data, such as similarity search, nearest neighbor search, and clustering. This enables you to efficiently work with large-scale vector datasets and build applications that require advanced vector operations.\n",
    "\n",
    "For more information on using PostgreSQL as Test Container, you can refer to the [Testcontainers PostgreSQL module documentation](https://testcontainers.com/modules/postgresql/)."
   ]
  },
  {
   "cell_type": "code",
   "execution_count": 2,
   "metadata": {
    "dotnet_interactive": {
     "language": "csharp"
    },
    "polyglot_notebook": {
     "kernelName": "csharp"
    }
   },
   "outputs": [],
   "source": [
    "using Testcontainers.PostgreSql;\n",
    "using Npgsql;\n",
    "\n",
    "var db =  new PostgreSqlBuilder()\n",
    "    .WithImage(\"pgvector/pgvector:pg16\")\n",
    "    .WithPortBinding(5432, 5432)\n",
    "    .WithDatabase(\"memory-db\")\n",
    "    .WithUsername(\"postgres\")\n",
    "    .WithPassword(\"postgres\")\n",
    "    .WithReuse(true)\n",
    "    .WithVolumeMount(\"memory-db-volume\", \"/var/lib/postgresql/data\")\n",
    "    .Build();\n",
    "\n",
    "await db.StartAsync();\n",
    "\n",
    "var connectionString = db.GetConnectionString();\n",
    "\n",
    "connectionString"
   ]
  },
  {
   "cell_type": "markdown",
   "metadata": {},
   "source": [
    "### Configure 'vector' extension"
   ]
  },
  {
   "cell_type": "code",
   "execution_count": 26,
   "metadata": {
    "dotnet_interactive": {
     "language": "csharp"
    },
    "polyglot_notebook": {
     "kernelName": "csharp"
    }
   },
   "outputs": [],
   "source": [
    "try\n",
    "{\n",
    "    using (var conn = new NpgsqlConnection(connectionString))\n",
    "    {\n",
    "        conn.Open();\n",
    "\n",
    "        var sql = \"CREATE EXTENSION vector\";\n",
    "\n",
    "        using var cmd = new NpgsqlCommand(sql, conn);\n",
    "\n",
    "        var rowsAffected = cmd.ExecuteNonQuery();\n",
    "\n",
    "        display(\"Extension created successfully\");\n",
    "    }\n",
    "}\n",
    "catch (PostgresException ex)\n",
    "{\n",
    "    display(ex.Message);\n",
    "}"
   ]
  },
  {
   "cell_type": "markdown",
   "metadata": {},
   "source": [
    "### Stop container"
   ]
  },
  {
   "cell_type": "code",
   "execution_count": 32,
   "metadata": {
    "dotnet_interactive": {
     "language": "csharp"
    },
    "polyglot_notebook": {
     "kernelName": "csharp"
    }
   },
   "outputs": [],
   "source": [
    "await db.StopAsync();"
   ]
  },
  {
   "cell_type": "markdown",
   "metadata": {},
   "source": [
    "## ![asipire-logo](https://learn.microsoft.com/en-us/dotnet/aspire/assets/dotnet-aspire-logo-128.svg) Use Aspire Dashboard\n",
    "\n",
    "<https://mcr.microsoft.com/en-us/product/dotnet/aspire-dashboard/tags>\n",
    "\n",
    "Open: <http://localhost:18888>"
   ]
  },
  {
   "cell_type": "code",
   "execution_count": 38,
   "metadata": {
    "dotnet_interactive": {
     "language": "csharp"
    },
    "polyglot_notebook": {
     "kernelName": "csharp"
    }
   },
   "outputs": [],
   "source": [
    "using Testcontainers;\n",
    "using DotNet.Testcontainers.Builders;\n",
    "\n",
    "var aspireDashboard = new ContainerBuilder()\n",
    "    .WithImage(\"mcr.microsoft.com/dotnet/aspire-dashboard:8.1.0\")\n",
    "    .WithPortBinding(18888, 18888)\n",
    "    .WithPortBinding(18889, 18889)\n",
    "    .WithEnvironment(\"DOTNET_DASHBOARD_UNSECURED_ALLOW_ANONYMOUS\", \"true\")\n",
    "    .WithWaitStrategy(\n",
    "        Wait.ForUnixContainer().UntilHttpRequestIsSucceeded(r => r.ForPort(18888))\n",
    "    )\n",
    "    .WithReuse(true)\n",
    "    .Build();\n",
    "\n",
    "await aspireDashboard.StartAsync();\n",
    "\n",
    "var otelExporterEndpoint =\n",
    "    $\"http://localhost:{aspireDashboard.GetMappedPublicPort(18889)}\";\n",
    "\n",
    "otelExporterEndpoint"
   ]
  },
  {
   "cell_type": "code",
   "execution_count": null,
   "metadata": {
    "dotnet_interactive": {
     "language": "csharp"
    },
    "polyglot_notebook": {
     "kernelName": "csharp"
    }
   },
   "outputs": [],
   "source": []
  }
 ],
 "metadata": {
  "kernelspec": {
   "display_name": ".NET (C#)",
   "language": "C#",
   "name": ".net-csharp"
  },
  "polyglot_notebook": {
   "kernelInfo": {
    "defaultKernelName": "csharp",
    "items": [
     {
      "aliases": [],
      "languageName": "csharp",
      "name": "csharp"
     }
    ]
   }
  }
 },
 "nbformat": 4,
 "nbformat_minor": 2
}

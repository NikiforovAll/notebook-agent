{
 "cells": [
  {
   "cell_type": "markdown",
   "metadata": {},
   "source": [
    "# Ask .NET 9 RC1 Release Notes"
   ]
  },
  {
   "cell_type": "code",
   "execution_count": 22,
   "metadata": {
    "dotnet_interactive": {
     "language": "csharp"
    },
    "polyglot_notebook": {
     "kernelName": "csharp"
    }
   },
   "outputs": [],
   "source": [
    "#!import ./setup-kernel.ipynb"
   ]
  },
  {
   "cell_type": "markdown",
   "metadata": {},
   "source": [
    "## Import '.NET 9 RC 1 - Release Notes'"
   ]
  },
  {
   "cell_type": "code",
   "execution_count": 25,
   "metadata": {
    "dotnet_interactive": {
     "language": "csharp"
    },
    "polyglot_notebook": {
     "kernelName": "csharp"
    }
   },
   "outputs": [],
   "source": [
    "\n",
    "var tags = new TagCollection() { [\"release\"] = [\".NET 9\",\"RC1\"] }; \n",
    "\n",
    "Task[] tasks = [\n",
    "    memory.ImportWebPageAsync(\n",
    "        \"https://raw.githubusercontent.com/dotnet/core/main/release-notes/9.0/preview/rc1/libraries.md\", tags: tags),\n",
    "    memory.ImportWebPageAsync(\n",
    "        \"https://github.com/dotnet/core/blob/main/release-notes/9.0/preview/rc1/aspnetcore.md\", tags: tags),\n",
    "    ];\n",
    "await Task.WhenAll(tasks);"
   ]
  },
  {
   "cell_type": "markdown",
   "metadata": {},
   "source": [
    "## Ask questions"
   ]
  },
  {
   "cell_type": "code",
   "execution_count": 25,
   "metadata": {
    "dotnet_interactive": {
     "language": "csharp"
    },
    "polyglot_notebook": {
     "kernelName": "csharp"
    }
   },
   "outputs": [
    {
     "data": {
      "text/markdown": [
       "The latest additions to the .NET 9 Release Candidate 1 include several significant updates to the libraries:\n",
       "\n",
       "1. **WebSocket Keep-Alive Ping and Timeout APIs**: New APIs have been added to `ClientWebSocketOptions` and `WebSocketCreationOptions` that allow developers to opt-in to sending WebSocket pings. This feature helps ensure that the connection remains active by aborting it if the peer does not respond within a specified timeout.\n",
       "\n",
       "2. **ZLib and Brotli Compression Options**: New types, `ZLibCompressionOptions` and `BrotliCompressionOptions`, have been introduced. These allow for more fine-tuned settings regarding compression levels and strategies, enabling developers to customize the compression behavior beyond the existing `CompressionLevel` option.\n",
       "\n",
       "3. **TarEntry.DataOffset**: A new property has been added to the `TarEntry` class, which provides the data offset for entries in tar files.\n",
       "\n",
       "4. **HttpClientFactory Logging Changes**: The `HttpClientFactory` no longer logs header values by default, which enhances security by preventing sensitive information from being logged inadvertently.\n",
       "\n",
       "5. **Out-of-Proc Meter Wildcard Listening**: This feature allows for wildcard listening in out-of-process meters, improving the flexibility and usability of metrics collection.\n",
       "\n",
       "These updates enhance the functionality and performance of .NET applications, providing developers with more control and options for their projects."
      ]
     },
     "metadata": {},
     "output_type": "display_data"
    },
    {
     "data": {
      "text/csv": [
       "SourceUrl,Content\r\n",
       "https://raw.githubusercontent.com/dotnet/core/main/release-notes/9.0/preview/rc1/libraries.md,System.Linq.Enumerable+SelectListIterator`2[Microsoft.KernelMemory.Citation+Partition,<>f__AnonymousType0#12`2[System.String,System.Single]]\r\n",
       "https://github.com/dotnet/core/blob/main/release-notes/9.0/preview/rc1/aspnetcore.md,System.Linq.Enumerable+SelectListIterator`2[Microsoft.KernelMemory.Citation+Partition,<>f__AnonymousType0#12`2[System.String,System.Single]]\r\n",
       "https://nikiforovall.github.io/tags.html,System.Linq.Enumerable+SelectListIterator`2[Microsoft.KernelMemory.Citation+Partition,<>f__AnonymousType0#12`2[System.String,System.Single]]\r\n",
       "https://nikiforovall.github.io/tags.html,System.Linq.Enumerable+SelectListIterator`2[Microsoft.KernelMemory.Citation+Partition,<>f__AnonymousType0#12`2[System.String,System.Single]]\r\n"
      ],
      "text/html": [
       "<table><thead><tr><td><span>SourceUrl</span></td><td><span>Content</span></td></tr></thead><tbody><tr><td>https://raw.githubusercontent.com/dotnet/core/main/release-notes/9.0/preview/rc1/libraries.md</td><td><table><thead><tr><th><i>index</i></th><th>value</th></tr></thead><tbody><tr><td>0</td><td><details class=\"dni-treeview\"><summary><span class=\"dni-code-hint\"><code>{ Summary = # Libraries updates in .NET 9 Release Candidate 1\\n\\nHere&#39;s a summary of what&#39;s new in .NET Libraries , Relevance = 0.8066989 }</code></span></summary><div><table><thead><tr></tr></thead><tbody><tr><td>Summary</td><td><div class=\"dni-plaintext\"><pre># Libraries updates in .NET 9 Release Candidate 1\n",
       "\n",
       "Here&#39;s a summary of what&#39;s new in .NET Libraries </pre></div></td></tr><tr><td>Relevance</td><td><div class=\"dni-plaintext\"><pre>0.8066989</pre></div></td></tr></tbody></table></div></details></td></tr></tbody></table></td></tr><tr><td>https://github.com/dotnet/core/blob/main/release-notes/9.0/preview/rc1/aspnetcore.md</td><td><table><thead><tr><th><i>index</i></th><th>value</th></tr></thead><tbody><tr><td>0</td><td><details class=\"dni-treeview\"><summary><span class=\"dni-code-hint\"><code>{ Summary = core/release-notes/9.0/preview/rc1/aspnetcore.md at main &#183; dotnet/core &#183; GitHub\\n\\n\\n\\n  \\n  \\n  \\n\\n    \\n  , Relevance = 0.78307796 }</code></span></summary><div><table><thead><tr></tr></thead><tbody><tr><td>Summary</td><td><div class=\"dni-plaintext\"><pre>core/release-notes/9.0/preview/rc1/aspnetcore.md at main &#183; dotnet/core &#183; GitHub\n",
       "\n",
       "\n",
       "\n",
       "  \n",
       "  \n",
       "  \n",
       "\n",
       "    \n",
       "  </pre></div></td></tr><tr><td>Relevance</td><td><div class=\"dni-plaintext\"><pre>0.78307796</pre></div></td></tr></tbody></table></div></details></td></tr></tbody></table></td></tr><tr><td>https://nikiforovall.github.io/tags.html</td><td><table><thead><tr><th><i>index</i></th><th>value</th></tr></thead><tbody><tr><td>0</td><td><details class=\"dni-treeview\"><summary><span class=\"dni-code-hint\"><code>{ Summary = Mastering AWS Batch: A .NET Developer Guide to Batch File Processing - May 26, 2024\\n        \\n       , Relevance = 0.781015 }</code></span></summary><div><table><thead><tr></tr></thead><tbody><tr><td>Summary</td><td><div class=\"dni-plaintext\"><pre>Mastering AWS Batch: A .NET Developer Guide to Batch File Processing - May 26, 2024\n",
       "        \n",
       "       </pre></div></td></tr><tr><td>Relevance</td><td><div class=\"dni-plaintext\"><pre>0.781015</pre></div></td></tr></tbody></table></div></details></td></tr><tr><td>1</td><td><details class=\"dni-treeview\"><summary><span class=\"dni-code-hint\"><code>{ Summary = Task-based asynchronous Pattern and Composition (aka Task Combinators) - February 26, 2021\\n        \\n, Relevance = 0.7767888 }</code></span></summary><div><table><thead><tr></tr></thead><tbody><tr><td>Summary</td><td><div class=\"dni-plaintext\"><pre>Task-based asynchronous Pattern and Composition (aka Task Combinators) - February 26, 2021\n",
       "        \n",
       "</pre></div></td></tr><tr><td>Relevance</td><td><div class=\"dni-plaintext\"><pre>0.7767888</pre></div></td></tr></tbody></table></div></details></td></tr><tr><td>2</td><td><details class=\"dni-treeview\"><summary><span class=\"dni-code-hint\"><code>{ Summary = Typical RAG Implementation Using Semantic Kernel, Kernel Memory, and Aspire in .NET - September 04, , Relevance = 0.77490765 }</code></span></summary><div><table><thead><tr></tr></thead><tbody><tr><td>Summary</td><td><div class=\"dni-plaintext\"><pre>Typical RAG Implementation Using Semantic Kernel, Kernel Memory, and Aspire in .NET - September 04, </pre></div></td></tr><tr><td>Relevance</td><td><div class=\"dni-plaintext\"><pre>0.77490765</pre></div></td></tr></tbody></table></div></details></td></tr><tr><td>3</td><td><details class=\"dni-treeview\"><summary><span class=\"dni-code-hint\"><code>{ Summary = How to add OpenAPI to ASP.NET Core project. A coding story. - June 13, 2021\\n        \\n          Await, Relevance = 0.7713699 }</code></span></summary><div><table><thead><tr></tr></thead><tbody><tr><td>Summary</td><td><div class=\"dni-plaintext\"><pre>How to add OpenAPI to ASP.NET Core project. A coding story. - June 13, 2021\n",
       "        \n",
       "          Await</pre></div></td></tr><tr><td>Relevance</td><td><div class=\"dni-plaintext\"><pre>0.7713699</pre></div></td></tr></tbody></table></div></details></td></tr></tbody></table></td></tr><tr><td>https://nikiforovall.github.io/tags.html</td><td><table><thead><tr><th><i>index</i></th><th>value</th></tr></thead><tbody><tr><td>0</td><td><details class=\"dni-treeview\"><summary><span class=\"dni-code-hint\"><code>{ Summary = Mastering AWS Batch: A .NET Developer Guide to Batch File Processing - May 26, 2024\\n        \\n       , Relevance = 0.781015 }</code></span></summary><div><table><thead><tr></tr></thead><tbody><tr><td>Summary</td><td><div class=\"dni-plaintext\"><pre>Mastering AWS Batch: A .NET Developer Guide to Batch File Processing - May 26, 2024\n",
       "        \n",
       "       </pre></div></td></tr><tr><td>Relevance</td><td><div class=\"dni-plaintext\"><pre>0.781015</pre></div></td></tr></tbody></table></div></details></td></tr><tr><td>1</td><td><details class=\"dni-treeview\"><summary><span class=\"dni-code-hint\"><code>{ Summary = Task-based asynchronous Pattern and Composition (aka Task Combinators) - February 26, 2021\\n        \\n, Relevance = 0.7767888 }</code></span></summary><div><table><thead><tr></tr></thead><tbody><tr><td>Summary</td><td><div class=\"dni-plaintext\"><pre>Task-based asynchronous Pattern and Composition (aka Task Combinators) - February 26, 2021\n",
       "        \n",
       "</pre></div></td></tr><tr><td>Relevance</td><td><div class=\"dni-plaintext\"><pre>0.7767888</pre></div></td></tr></tbody></table></div></details></td></tr><tr><td>2</td><td><details class=\"dni-treeview\"><summary><span class=\"dni-code-hint\"><code>{ Summary = Typical RAG Implementation Using Semantic Kernel, Kernel Memory, and Aspire in .NET - September 04, , Relevance = 0.77490765 }</code></span></summary><div><table><thead><tr></tr></thead><tbody><tr><td>Summary</td><td><div class=\"dni-plaintext\"><pre>Typical RAG Implementation Using Semantic Kernel, Kernel Memory, and Aspire in .NET - September 04, </pre></div></td></tr><tr><td>Relevance</td><td><div class=\"dni-plaintext\"><pre>0.77490765</pre></div></td></tr></tbody></table></div></details></td></tr></tbody></table></td></tr></tbody></table><style>\r\n",
       ".dni-code-hint {\r\n",
       "    font-style: italic;\r\n",
       "    overflow: hidden;\r\n",
       "    white-space: nowrap;\r\n",
       "}\r\n",
       ".dni-treeview {\r\n",
       "    white-space: nowrap;\r\n",
       "}\r\n",
       ".dni-treeview td {\r\n",
       "    vertical-align: top;\r\n",
       "    text-align: start;\r\n",
       "}\r\n",
       "details.dni-treeview {\r\n",
       "    padding-left: 1em;\r\n",
       "}\r\n",
       "table td {\r\n",
       "    text-align: start;\r\n",
       "}\r\n",
       "table tr { \r\n",
       "    vertical-align: top; \r\n",
       "    margin: 0em 0px;\r\n",
       "}\r\n",
       "table tr td pre \r\n",
       "{ \r\n",
       "    vertical-align: top !important; \r\n",
       "    margin: 0em 0px !important;\r\n",
       "} \r\n",
       "table th {\r\n",
       "    text-align: start;\r\n",
       "}\r\n",
       "</style>"
      ]
     },
     "metadata": {},
     "output_type": "display_data"
    }
   ],
   "source": [
    "var answer = await memory.AskAsync(\"What are the latest additions to .NET 9 release?\", minRelevance: 0.75);\n",
    "\n",
    "answer.Result.DisplayAs(\"text/markdown\");\n",
    "\n",
    "answer.RelevantSources.Select(\n",
    "    s => new { s.SourceUrl, Content = s.Partitions.Select(x => new {Summary = x.Text[..100], x.Relevance})}\n",
    ").DisplayTable();"
   ]
  }
 ],
 "metadata": {
  "kernelspec": {
   "display_name": ".NET (C#)",
   "language": "C#",
   "name": ".net-csharp"
  },
  "polyglot_notebook": {
   "kernelInfo": {
    "defaultKernelName": "csharp",
    "items": [
     {
      "aliases": [],
      "languageName": "csharp",
      "name": "csharp"
     }
    ]
   }
  }
 },
 "nbformat": 4,
 "nbformat_minor": 2
}
